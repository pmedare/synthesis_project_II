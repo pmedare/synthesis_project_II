{
 "cells": [
  {
   "cell_type": "code",
   "execution_count": 42,
   "metadata": {},
   "outputs": [],
   "source": [
    "import networkx as nx\n",
    "from pyvis.network import Network\n",
    "\n",
    "import pandas as pd"
   ]
  },
  {
   "cell_type": "code",
   "execution_count": 47,
   "metadata": {},
   "outputs": [
    {
     "name": "stdout",
     "output_type": "stream",
     "text": [
      "The dataset has 46564 vectors.\n"
     ]
    }
   ],
   "source": [
    "classesDF  = pd.read_csv('../../data/elliptic_txs_classes.csv')\n",
    "\n",
    "# Remove all nodes that have unknown class\n",
    "classesDF = classesDF[classesDF['class'] != \"unknown\"]\n",
    "\n",
    "# If class = 2, then map to 0, else map to 1\n",
    "classesDF['class'] = classesDF['class'].map({'2': 0, '1': 1})\n",
    "\n",
    "print(f'The dataset has {len(classesDF)} vectors.')"
   ]
  },
  {
   "cell_type": "code",
   "execution_count": 58,
   "metadata": {},
   "outputs": [
    {
     "name": "stdout",
     "output_type": "stream",
     "text": [
      "The dataset that will be displayed has 9313 vectors.\n"
     ]
    }
   ],
   "source": [
    "edgesDF  = pd.read_csv('../../data/elliptic_txs_edgelist.csv')\n",
    "\n",
    "# From classesDF, remove 90% of the nodes of each class\n",
    "reducedDF = classesDF.groupby('class', group_keys=False).apply(lambda x: x.sample(frac=0.2))\n",
    "\n",
    "print(f'The dataset that will be displayed has {len(reducedDF)} vectors.')\n",
    "\n",
    "# Remove all edges that belong to a node that is not in classesDF\n",
    "edgesDF = edgesDF[edgesDF['txId1'].isin(reducedDF['txId'])]\n",
    "edgesDF = edgesDF[edgesDF['txId2'].isin(reducedDF['txId'])]\n",
    "\n",
    "# Create a directed graph\n",
    "G = nx.from_pandas_edgelist(edgesDF, 'txId1', 'txId2', create_using=nx.DiGraph)\n",
    "\n",
    "# Add the class to the nodes\n",
    "txid_to_class = classesDF.set_index('txId')['class'].to_dict()\n",
    "for node in G.nodes():\n",
    "    if node in txid_to_class:\n",
    "        G.nodes[node]['class'] = txid_to_class[node]\n",
    "    else:\n",
    "        G.nodes[node]['class'] = None  # Or some default value if the txId is not found"
   ]
  },
  {
   "cell_type": "code",
   "execution_count": 60,
   "metadata": {},
   "outputs": [
    {
     "name": "stdout",
     "output_type": "stream",
     "text": [
      "Node 232440111: Class 0\n"
     ]
    }
   ],
   "source": [
    "# Print the class of each node\n",
    "for node in G.nodes(data=True):\n",
    "    print(f\"Node {node[0]}: Class {node[1]['class']}\")\n",
    "    break"
   ]
  },
  {
   "cell_type": "markdown",
   "metadata": {},
   "source": [
    "# Plot the graph"
   ]
  },
  {
   "cell_type": "code",
   "execution_count": 61,
   "metadata": {},
   "outputs": [],
   "source": [
    "# Initialize PyVis network\n",
    "nt = Network('720px', '1080px')\n",
    "\n",
    "# Populate the nodes and edges data structures\n",
    "nt.from_nx(G)\n",
    "\n",
    "# Optionally, add more visualization options here\n",
    "for node in G.nodes(data=True):\n",
    "    title = f\"Class: {node[1]['class']}\"\n",
    "    nt.get_node(node[0])['title'] = title\n",
    "    nt.get_node(node[0])['group'] = node[1]['class']\n",
    "\n",
    "# Save and display the network\n",
    "nt.save_graph('graph_interface.html')"
   ]
  },
  {
   "cell_type": "markdown",
   "metadata": {},
   "source": [
    "# Example"
   ]
  },
  {
   "cell_type": "code",
   "execution_count": 8,
   "metadata": {},
   "outputs": [],
   "source": [
    "from pyvis.network import Network\n",
    "import networkx as nx\n",
    "nx_graph = nx.cycle_graph(10)\n",
    "nx_graph.nodes[1]['title'] = 'Number 1'\n",
    "nx_graph.nodes[1]['group'] = 1\n",
    "nx_graph.nodes[3]['title'] = 'I belong to a different group!'\n",
    "nx_graph.nodes[3]['group'] = 10\n",
    "nx_graph.add_node(20, size=20, title='couple', group=2)\n",
    "nx_graph.add_node(21, size=15, title='couple', group=2)\n",
    "nx_graph.add_edge(20, 21, weight=5)\n",
    "nx_graph.add_node(25, size=25, label='lonely', title='lonely node', group=3)\n",
    "nt = Network('720px', '1080px')\n",
    "# populates the nodes and edges data structures\n",
    "nt.from_nx(nx_graph)\n",
    "nt.save_graph('nx.html')"
   ]
  }
 ],
 "metadata": {
  "kernelspec": {
   "display_name": "base",
   "language": "python",
   "name": "python3"
  },
  "language_info": {
   "codemirror_mode": {
    "name": "ipython",
    "version": 3
   },
   "file_extension": ".py",
   "mimetype": "text/x-python",
   "name": "python",
   "nbconvert_exporter": "python",
   "pygments_lexer": "ipython3",
   "version": "3.11.7"
  }
 },
 "nbformat": 4,
 "nbformat_minor": 2
}
